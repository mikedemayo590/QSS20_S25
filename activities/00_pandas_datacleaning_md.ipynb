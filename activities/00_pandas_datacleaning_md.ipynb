{
 "cells": [
  {
   "cell_type": "markdown",
   "metadata": {},
   "source": [
    "## 0. Load imports "
   ]
  },
  {
   "cell_type": "code",
   "execution_count": 1,
   "metadata": {},
   "outputs": [],
   "source": [
    "## imports\n",
    "import pandas as pd\n",
    "import numpy as np\n",
    "\n",
    "\n",
    "## print multiple things from same cell\n",
    "from IPython.core.interactiveshell import InteractiveShell\n",
    "InteractiveShell.ast_node_interactivity = \"all\""
   ]
  },
  {
   "cell_type": "markdown",
   "metadata": {},
   "source": [
    "## 0. Load data"
   ]
  },
  {
   "cell_type": "code",
   "execution_count": 2,
   "metadata": {
    "collapsed": true
   },
   "outputs": [
    {
     "data": {
      "text/html": [
       "<div>\n",
       "<style scoped>\n",
       "    .dataframe tbody tr th:only-of-type {\n",
       "        vertical-align: middle;\n",
       "    }\n",
       "\n",
       "    .dataframe tbody tr th {\n",
       "        vertical-align: top;\n",
       "    }\n",
       "\n",
       "    .dataframe thead th {\n",
       "        text-align: right;\n",
       "    }\n",
       "</style>\n",
       "<table border=\"1\" class=\"dataframe\">\n",
       "  <thead>\n",
       "    <tr style=\"text-align: right;\">\n",
       "      <th></th>\n",
       "      <th>X</th>\n",
       "      <th>Y</th>\n",
       "      <th>CCN</th>\n",
       "      <th>REPORT_DAT</th>\n",
       "      <th>SHIFT</th>\n",
       "      <th>METHOD</th>\n",
       "      <th>OFFENSE</th>\n",
       "      <th>BLOCK</th>\n",
       "      <th>XBLOCK</th>\n",
       "      <th>YBLOCK</th>\n",
       "      <th>...</th>\n",
       "      <th>BLOCK_GROUP</th>\n",
       "      <th>CENSUS_TRACT</th>\n",
       "      <th>VOTING_PRECINCT</th>\n",
       "      <th>LATITUDE</th>\n",
       "      <th>LONGITUDE</th>\n",
       "      <th>BID</th>\n",
       "      <th>START_DATE</th>\n",
       "      <th>END_DATE</th>\n",
       "      <th>OBJECTID</th>\n",
       "      <th>OCTO_RECORD_ID</th>\n",
       "    </tr>\n",
       "  </thead>\n",
       "  <tbody>\n",
       "    <tr>\n",
       "      <th>0</th>\n",
       "      <td>-76.987540</td>\n",
       "      <td>38.903968</td>\n",
       "      <td>20008120</td>\n",
       "      <td>2020/01/14 15:49:55+00</td>\n",
       "      <td>DAY</td>\n",
       "      <td>OTHERS</td>\n",
       "      <td>THEFT F/AUTO</td>\n",
       "      <td>1200 - 1299 BLOCK OF NEAL STREET NE</td>\n",
       "      <td>401081.0</td>\n",
       "      <td>137345.0</td>\n",
       "      <td>...</td>\n",
       "      <td>008802 3</td>\n",
       "      <td>8802.0</td>\n",
       "      <td>Precinct 77</td>\n",
       "      <td>38.903960</td>\n",
       "      <td>-76.987537</td>\n",
       "      <td>NaN</td>\n",
       "      <td>2020/01/14 15:04:04+00</td>\n",
       "      <td>NaN</td>\n",
       "      <td>673713315</td>\n",
       "      <td>NaN</td>\n",
       "    </tr>\n",
       "    <tr>\n",
       "      <th>1</th>\n",
       "      <td>-77.004840</td>\n",
       "      <td>38.833739</td>\n",
       "      <td>20008192</td>\n",
       "      <td>2020/01/14 19:43:04+00</td>\n",
       "      <td>DAY</td>\n",
       "      <td>GUN</td>\n",
       "      <td>ASSAULT W/DANGEROUS WEAPON</td>\n",
       "      <td>100 - 165 BLOCK OF MISSISSIPPI AVENUE SE</td>\n",
       "      <td>399580.0</td>\n",
       "      <td>129549.0</td>\n",
       "      <td>...</td>\n",
       "      <td>009803 3</td>\n",
       "      <td>9803.0</td>\n",
       "      <td>Precinct 124</td>\n",
       "      <td>38.833731</td>\n",
       "      <td>-77.004837</td>\n",
       "      <td>NaN</td>\n",
       "      <td>2020/01/14 17:17:37+00</td>\n",
       "      <td>NaN</td>\n",
       "      <td>673713316</td>\n",
       "      <td>NaN</td>\n",
       "    </tr>\n",
       "    <tr>\n",
       "      <th>2</th>\n",
       "      <td>-76.999472</td>\n",
       "      <td>38.907644</td>\n",
       "      <td>20008246</td>\n",
       "      <td>2020/01/14 20:09:52+00</td>\n",
       "      <td>EVENING</td>\n",
       "      <td>OTHERS</td>\n",
       "      <td>THEFT/OTHER</td>\n",
       "      <td>400 - 499 BLOCK OF MORSE STREET NE</td>\n",
       "      <td>400046.0</td>\n",
       "      <td>137753.0</td>\n",
       "      <td>...</td>\n",
       "      <td>008803 2</td>\n",
       "      <td>8803.0</td>\n",
       "      <td>Precinct 76</td>\n",
       "      <td>38.907636</td>\n",
       "      <td>-76.999470</td>\n",
       "      <td>NaN</td>\n",
       "      <td>2020/01/10 23:00:00+00</td>\n",
       "      <td>2020/01/14 18:00:44+00</td>\n",
       "      <td>673713317</td>\n",
       "      <td>NaN</td>\n",
       "    </tr>\n",
       "    <tr>\n",
       "      <th>3</th>\n",
       "      <td>-76.982729</td>\n",
       "      <td>38.916480</td>\n",
       "      <td>20008501</td>\n",
       "      <td>2020/01/15 03:28:53+00</td>\n",
       "      <td>EVENING</td>\n",
       "      <td>OTHERS</td>\n",
       "      <td>THEFT/OTHER</td>\n",
       "      <td>1500 - 1599 BLOCK OF NEW YORK AVENUE NE</td>\n",
       "      <td>401498.0</td>\n",
       "      <td>138734.0</td>\n",
       "      <td>...</td>\n",
       "      <td>008803 1</td>\n",
       "      <td>8803.0</td>\n",
       "      <td>Precinct 76</td>\n",
       "      <td>38.916472</td>\n",
       "      <td>-76.982727</td>\n",
       "      <td>NaN</td>\n",
       "      <td>2020/01/15 02:31:24+00</td>\n",
       "      <td>NaN</td>\n",
       "      <td>673713318</td>\n",
       "      <td>NaN</td>\n",
       "    </tr>\n",
       "    <tr>\n",
       "      <th>4</th>\n",
       "      <td>-76.980077</td>\n",
       "      <td>38.917191</td>\n",
       "      <td>20009148</td>\n",
       "      <td>2020/01/16 04:12:47+00</td>\n",
       "      <td>MIDNIGHT</td>\n",
       "      <td>OTHERS</td>\n",
       "      <td>THEFT/OTHER</td>\n",
       "      <td>1600 - 1779 BLOCK OF NEW YORK AVENUE NE</td>\n",
       "      <td>401728.0</td>\n",
       "      <td>138813.0</td>\n",
       "      <td>...</td>\n",
       "      <td>008803 1</td>\n",
       "      <td>8803.0</td>\n",
       "      <td>Precinct 76</td>\n",
       "      <td>38.917184</td>\n",
       "      <td>-76.980074</td>\n",
       "      <td>NaN</td>\n",
       "      <td>2020/01/16 01:15:36+00</td>\n",
       "      <td>2020/01/16 01:19:54+00</td>\n",
       "      <td>673713319</td>\n",
       "      <td>NaN</td>\n",
       "    </tr>\n",
       "  </tbody>\n",
       "</table>\n",
       "<p>5 rows × 25 columns</p>\n",
       "</div>"
      ],
      "text/plain": [
       "           X          Y       CCN              REPORT_DAT     SHIFT  METHOD  \\\n",
       "0 -76.987540  38.903968  20008120  2020/01/14 15:49:55+00       DAY  OTHERS   \n",
       "1 -77.004840  38.833739  20008192  2020/01/14 19:43:04+00       DAY     GUN   \n",
       "2 -76.999472  38.907644  20008246  2020/01/14 20:09:52+00   EVENING  OTHERS   \n",
       "3 -76.982729  38.916480  20008501  2020/01/15 03:28:53+00   EVENING  OTHERS   \n",
       "4 -76.980077  38.917191  20009148  2020/01/16 04:12:47+00  MIDNIGHT  OTHERS   \n",
       "\n",
       "                      OFFENSE                                     BLOCK  \\\n",
       "0                THEFT F/AUTO       1200 - 1299 BLOCK OF NEAL STREET NE   \n",
       "1  ASSAULT W/DANGEROUS WEAPON  100 - 165 BLOCK OF MISSISSIPPI AVENUE SE   \n",
       "2                 THEFT/OTHER        400 - 499 BLOCK OF MORSE STREET NE   \n",
       "3                 THEFT/OTHER   1500 - 1599 BLOCK OF NEW YORK AVENUE NE   \n",
       "4                 THEFT/OTHER   1600 - 1779 BLOCK OF NEW YORK AVENUE NE   \n",
       "\n",
       "     XBLOCK    YBLOCK  ...  BLOCK_GROUP CENSUS_TRACT  VOTING_PRECINCT  \\\n",
       "0  401081.0  137345.0  ...     008802 3       8802.0      Precinct 77   \n",
       "1  399580.0  129549.0  ...     009803 3       9803.0     Precinct 124   \n",
       "2  400046.0  137753.0  ...     008803 2       8803.0      Precinct 76   \n",
       "3  401498.0  138734.0  ...     008803 1       8803.0      Precinct 76   \n",
       "4  401728.0  138813.0  ...     008803 1       8803.0      Precinct 76   \n",
       "\n",
       "    LATITUDE  LONGITUDE  BID              START_DATE                END_DATE  \\\n",
       "0  38.903960 -76.987537  NaN  2020/01/14 15:04:04+00                     NaN   \n",
       "1  38.833731 -77.004837  NaN  2020/01/14 17:17:37+00                     NaN   \n",
       "2  38.907636 -76.999470  NaN  2020/01/10 23:00:00+00  2020/01/14 18:00:44+00   \n",
       "3  38.916472 -76.982727  NaN  2020/01/15 02:31:24+00                     NaN   \n",
       "4  38.917184 -76.980074  NaN  2020/01/16 01:15:36+00  2020/01/16 01:19:54+00   \n",
       "\n",
       "    OBJECTID  OCTO_RECORD_ID  \n",
       "0  673713315             NaN  \n",
       "1  673713316             NaN  \n",
       "2  673713317             NaN  \n",
       "3  673713318             NaN  \n",
       "4  673713319             NaN  \n",
       "\n",
       "[5 rows x 25 columns]"
      ]
     },
     "execution_count": 2,
     "metadata": {},
     "output_type": "execute_result"
    },
    {
     "data": {
      "text/plain": [
       "(27931, 25)"
      ]
     },
     "execution_count": 2,
     "metadata": {},
     "output_type": "execute_result"
    },
    {
     "name": "stdout",
     "output_type": "stream",
     "text": [
      "<class 'pandas.core.frame.DataFrame'>\n",
      "RangeIndex: 27931 entries, 0 to 27930\n",
      "Data columns (total 25 columns):\n",
      " #   Column                Non-Null Count  Dtype  \n",
      "---  ------                --------------  -----  \n",
      " 0   X                     27931 non-null  float64\n",
      " 1   Y                     27931 non-null  float64\n",
      " 2   CCN                   27931 non-null  int64  \n",
      " 3   REPORT_DAT            27931 non-null  object \n",
      " 4   SHIFT                 27931 non-null  object \n",
      " 5   METHOD                27931 non-null  object \n",
      " 6   OFFENSE               27931 non-null  object \n",
      " 7   BLOCK                 27931 non-null  object \n",
      " 8   XBLOCK                27931 non-null  float64\n",
      " 9   YBLOCK                27931 non-null  float64\n",
      " 10  WARD                  27931 non-null  int64  \n",
      " 11  ANC                   27931 non-null  object \n",
      " 12  DISTRICT              27902 non-null  float64\n",
      " 13  PSA                   27896 non-null  float64\n",
      " 14  NEIGHBORHOOD_CLUSTER  27931 non-null  object \n",
      " 15  BLOCK_GROUP           27930 non-null  object \n",
      " 16  CENSUS_TRACT          27930 non-null  float64\n",
      " 17  VOTING_PRECINCT       27931 non-null  object \n",
      " 18  LATITUDE              27931 non-null  float64\n",
      " 19  LONGITUDE             27931 non-null  float64\n",
      " 20  BID                   4658 non-null   object \n",
      " 21  START_DATE            27931 non-null  object \n",
      " 22  END_DATE              24850 non-null  object \n",
      " 23  OBJECTID              27931 non-null  int64  \n",
      " 24  OCTO_RECORD_ID        0 non-null      float64\n",
      "dtypes: float64(10), int64(3), object(12)\n",
      "memory usage: 5.3+ MB\n"
     ]
    }
   ],
   "source": [
    "## load data on 2020 crimes in DC\n",
    "df = dc_crim_2020 = pd.read_csv(\"https://opendata.arcgis.com/datasets/f516e0dd7b614b088ad781b0c4002331_2.csv\")\n",
    "dc_crim_2020.head()\n",
    "dc_crim_2020.shape\n",
    "dc_crim_2020.info()\n"
   ]
  },
  {
   "cell_type": "code",
   "execution_count": 3,
   "metadata": {},
   "outputs": [],
   "source": [
    "a = [1,2,3]\n",
    "b = [\"a\",\"b\",\"c\"]"
   ]
  },
  {
   "cell_type": "code",
   "execution_count": 7,
   "metadata": {},
   "outputs": [
    {
     "data": {
      "text/plain": [
       "'a'"
      ]
     },
     "execution_count": 7,
     "metadata": {},
     "output_type": "execute_result"
    }
   ],
   "source": [
    "fake_dict = dict( zip(a,b) )\n",
    "\n",
    "fake_dict[1]"
   ]
  },
  {
   "cell_type": "code",
   "execution_count": 14,
   "metadata": {},
   "outputs": [
    {
     "data": {
      "text/plain": [
       "True"
      ]
     },
     "execution_count": 14,
     "metadata": {},
     "output_type": "execute_result"
    }
   ],
   "source": [
    "\"QSS\" in \"QSS20\""
   ]
  },
  {
   "cell_type": "code",
   "execution_count": 16,
   "metadata": {},
   "outputs": [],
   "source": [
    "list_classes = [\"QSS20\", \"QSS17\", \"QSS45\", \"ECON1\", \"CS31\", \"CS74\"]"
   ]
  },
  {
   "cell_type": "code",
   "execution_count": 18,
   "metadata": {},
   "outputs": [
    {
     "data": {
      "text/plain": [
       "['QSS20', 'QSS17', 'QSS45']"
      ]
     },
     "execution_count": 18,
     "metadata": {},
     "output_type": "execute_result"
    }
   ],
   "source": [
    "empty_list = []\n",
    "for c in list_classes:\n",
    "    if \"QSS\" in c:\n",
    "        empty_list.append(c)\n",
    "        \n",
    "empty_list"
   ]
  },
  {
   "cell_type": "code",
   "execution_count": 20,
   "metadata": {},
   "outputs": [
    {
     "data": {
      "text/plain": [
       "['QSS20', 'QSS17', 'QSS45']"
      ]
     },
     "execution_count": 20,
     "metadata": {},
     "output_type": "execute_result"
    }
   ],
   "source": [
    "[ c for c in list_classes if \"QSS\" in c  ]"
   ]
  },
  {
   "cell_type": "code",
   "execution_count": null,
   "metadata": {},
   "outputs": [],
   "source": []
  },
  {
   "cell_type": "markdown",
   "metadata": {},
   "source": [
    "#### Warm-up: Ways to add 100 to column X"
   ]
  },
  {
   "cell_type": "code",
   "execution_count": null,
   "metadata": {},
   "outputs": [],
   "source": []
  },
  {
   "cell_type": "code",
   "execution_count": null,
   "metadata": {},
   "outputs": [],
   "source": []
  },
  {
   "cell_type": "markdown",
   "metadata": {},
   "source": [
    "## 1. Aggregation"
   ]
  },
  {
   "cell_type": "markdown",
   "metadata": {},
   "source": [
    "### Example of grouping by one variable and doing one aggregation \n",
    "\n",
    "**Task**: find and print the number of unique offense types (`OFFENSE`) by ward (`WARD`)"
   ]
  },
  {
   "cell_type": "code",
   "execution_count": null,
   "metadata": {},
   "outputs": [],
   "source": []
  },
  {
   "cell_type": "markdown",
   "metadata": {},
   "source": [
    "### Example of grouping by one variable and providing two summaries of the same variable\n",
    "\n",
    "**Task**: previous showed number of offenses by ward but want to find out content of offenses in each ward; create an aggregation that summarizes both the number of unique offenses by ward and what those offenses are -- for instance, by pasting the unique offenses in that ward separated by the \";\" (e.g., Theft; Burglary;...)\n",
    "\n",
    "*Hint*: you can use the join command to paste together a list separated by some delimiter. \n",
    "    - The syntax, if we are using the comma delimiter, is: \", \".join(nameoflist)"
   ]
  },
  {
   "cell_type": "code",
   "execution_count": null,
   "metadata": {},
   "outputs": [],
   "source": []
  },
  {
   "cell_type": "markdown",
   "metadata": {},
   "source": [
    "### Example of grouping by two variables \n",
    "\n",
    "**Task**: group by ward (`WARD`) and police shift (`SHIFT`) and find the offense that is most common in that ward and shift"
   ]
  },
  {
   "cell_type": "code",
   "execution_count": null,
   "metadata": {},
   "outputs": [],
   "source": []
  },
  {
   "cell_type": "code",
   "execution_count": null,
   "metadata": {},
   "outputs": [],
   "source": []
  },
  {
   "cell_type": "markdown",
   "metadata": {},
   "source": [
    "## Summarizing over all rows or all columns (without grouping)\n",
    "\n",
    "We can also use the `apply` function to summarize rows or columns efficiently"
   ]
  },
  {
   "cell_type": "markdown",
   "metadata": {},
   "source": [
    "**Task**: find the mean lat and longitude in one line of code"
   ]
  },
  {
   "cell_type": "code",
   "execution_count": null,
   "metadata": {},
   "outputs": [],
   "source": []
  },
  {
   "cell_type": "markdown",
   "metadata": {},
   "source": [
    "## 2. Creating new columns/transforming their type "
   ]
  },
  {
   "cell_type": "markdown",
   "metadata": {},
   "source": [
    "### Simple filtering\n",
    "\n",
    "`np.where` is in the numpy package (aliased as `np`) and operates similar to `ifelse` in R\n",
    "\n",
    "But there is a built in pandas way to emulate this.\n",
    "\n",
    "**Task**: create an indicator `is_theft` for any offense that contains the word \"THEFT\"\n",
    "    \n",
    "**Task**: create an indicator `is_theft_notmotor` for any offense that contains the word \"THEFT\" but does not contain the word \"MOTOR\""
   ]
  },
  {
   "cell_type": "code",
   "execution_count": null,
   "metadata": {},
   "outputs": [],
   "source": []
  },
  {
   "cell_type": "markdown",
   "metadata": {},
   "source": [
    "### np.select\n",
    "\n",
    "**Task**: create a new variable, `offense_summary`, where you:\n",
    "        \n",
    "- Recode theft offenses that use a gun or knife as the method (`METHOD`) as: violent theft\n",
    "- Recode non-theft offenses that use a gun or knife as the method as: violent other\n",
    "- Recode all other as non-violent "
   ]
  },
  {
   "cell_type": "code",
   "execution_count": null,
   "metadata": {},
   "outputs": [],
   "source": []
  },
  {
   "cell_type": "markdown",
   "metadata": {},
   "source": [
    "### map.recode\n",
    "\n",
    "**Task**: recode shifts that are MIDNIGHT or EVENING as \"nighttime\"; code other shift to daytime"
   ]
  },
  {
   "cell_type": "code",
   "execution_count": null,
   "metadata": {},
   "outputs": [],
   "source": []
  },
  {
   "cell_type": "markdown",
   "metadata": {},
   "source": [
    "### Using built-in pandas methods\n",
    "\n",
    "Another way of creating variables, used either alone or in combination with np.where and np.select is to use pandas built in `str` methods\n",
    "\n",
    "Basic structure is: `df['namestringcol'].str.someoperation`"
   ]
  },
  {
   "cell_type": "markdown",
   "metadata": {},
   "source": [
    "**Task**: using a `str` method, create a new column--`OFFENSE_NOSP`--that replaces spaces in the `OFFENSE` column with underscores"
   ]
  },
  {
   "cell_type": "code",
   "execution_count": null,
   "metadata": {},
   "outputs": [],
   "source": []
  },
  {
   "cell_type": "markdown",
   "metadata": {},
   "source": [
    "### Transforming column types\n",
    "\n",
    "**Task**: check the type of the `START_DATE` column"
   ]
  },
  {
   "cell_type": "code",
   "execution_count": null,
   "metadata": {},
   "outputs": [],
   "source": []
  },
  {
   "cell_type": "markdown",
   "metadata": {},
   "source": [
    "**Task**: recast the `START_DATE` column to datetime, calling this `START_DATE_CLEAN`; coerce errors rather than cleaning the string; check the type of that new col"
   ]
  },
  {
   "cell_type": "code",
   "execution_count": null,
   "metadata": {},
   "outputs": [],
   "source": []
  },
  {
   "cell_type": "markdown",
   "metadata": {},
   "source": [
    "**Task:** print the min and max of `START_DATE_CLEAN`. What happens if you try to do this with `START_DATE`?"
   ]
  },
  {
   "cell_type": "code",
   "execution_count": null,
   "metadata": {},
   "outputs": [],
   "source": []
  },
  {
   "cell_type": "code",
   "execution_count": null,
   "metadata": {},
   "outputs": [],
   "source": []
  },
  {
   "cell_type": "markdown",
   "metadata": {},
   "source": [
    "## 3. Row and column filtering "
   ]
  },
  {
   "cell_type": "markdown",
   "metadata": {},
   "source": [
    "### Row subsetting\n",
    "\n",
    "**Task**: filter to crime reports about theft using the `is_theft` definition and that are in ward 3"
   ]
  },
  {
   "cell_type": "code",
   "execution_count": null,
   "metadata": {},
   "outputs": [],
   "source": []
  },
  {
   "cell_type": "markdown",
   "metadata": {},
   "source": [
    "### Column subsetting\n"
   ]
  },
  {
   "cell_type": "markdown",
   "metadata": {},
   "source": [
    "**Task**: select two columns--`START_DATE` and `END_DATE`--and print the head of the dataframe"
   ]
  },
  {
   "cell_type": "code",
   "execution_count": null,
   "metadata": {
    "scrolled": true
   },
   "outputs": [],
   "source": []
  },
  {
   "cell_type": "markdown",
   "metadata": {},
   "source": [
    "**Task**: use list comprehension to automate this a bit and select all columns with the word \"DATE\" in the name; print the head of the dataframe"
   ]
  },
  {
   "cell_type": "code",
   "execution_count": null,
   "metadata": {},
   "outputs": [],
   "source": []
  },
  {
   "cell_type": "markdown",
   "metadata": {},
   "source": [
    "**Task**: filter reports of crime in `START_DATE_CLEAN` before May 2020 and that are located in ward 1; select the ward and `START_DATE` column and print a random sample of rows"
   ]
  },
  {
   "cell_type": "code",
   "execution_count": null,
   "metadata": {},
   "outputs": [],
   "source": []
  }
 ],
 "metadata": {
  "kernelspec": {
   "display_name": "Python 3 (ipykernel)",
   "language": "python",
   "name": "python3"
  },
  "language_info": {
   "codemirror_mode": {
    "name": "ipython",
    "version": 3
   },
   "file_extension": ".py",
   "mimetype": "text/x-python",
   "name": "python",
   "nbconvert_exporter": "python",
   "pygments_lexer": "ipython3",
   "version": "3.9.12"
  }
 },
 "nbformat": 4,
 "nbformat_minor": 4
}
