{
 "cells": [
  {
   "cell_type": "markdown",
   "metadata": {},
   "source": [
    "# 0. Load imports "
   ]
  },
  {
   "cell_type": "code",
   "execution_count": null,
   "metadata": {},
   "outputs": [],
   "source": [
    "## imports\n",
    "import pandas as pd\n",
    "import numpy as np\n",
    "import re\n",
    "\n",
    "import matplotlib.pyplot as plt\n",
    "import seaborn as sns\n",
    "\n",
    "## print multiple things from same cell\n",
    "from IPython.core.interactiveshell import InteractiveShell\n",
    "InteractiveShell.ast_node_interactivity = \"all\"\n",
    "\n",
    "## load data on 2020 crimes in DC\n",
    "df = dc_crim_2020 = pd.read_csv(\"https://opendata.arcgis.com/datasets/f516e0dd7b614b088ad781b0c4002331_2.csv\")"
   ]
  },
  {
   "cell_type": "markdown",
   "metadata": {},
   "source": [
    "# 1. Questions: list comprehension\n",
    "\n",
    "- In class example, why did we need the \"courses\" at the beginning of the list iteration\n",
    "- How did the join syntax work in the example where we paste together offenses from same ward"
   ]
  },
  {
   "cell_type": "code",
   "execution_count": null,
   "metadata": {},
   "outputs": [],
   "source": [
    "## toy example\n",
    "\n",
    "### pool of courses\n",
    "all_courses = [\"QSS20\", \"QSS17\", \"GOV10\", \"GOV4\", \"CSC1\"]\n"
   ]
  },
  {
   "cell_type": "markdown",
   "metadata": {},
   "source": [
    "## 1.1 Application 1: filtering to a smaller list\n",
    "\n",
    "When we might use: have a lot of columns in a dataframe; want to filter to a smaller set using some pattern"
   ]
  },
  {
   "cell_type": "code",
   "execution_count": null,
   "metadata": {},
   "outputs": [],
   "source": [
    "### pull out ones that contain GOV in the string\n",
    "gov_c = [course for course in all_courses if \"GOV\" in course]\n",
    "gov_c # result"
   ]
  },
  {
   "cell_type": "code",
   "execution_count": null,
   "metadata": {},
   "outputs": [],
   "source": [
    "### showing that the \"course\" is just a placeholder/\n",
    "### arbitrary interator\n",
    "gov_c_alt = [x for x in all_courses if \"GOV\" in x]\n",
    "\n",
    "gov_c == gov_c_alt"
   ]
  },
  {
   "cell_type": "code",
   "execution_count": null,
   "metadata": {},
   "outputs": [],
   "source": []
  },
  {
   "cell_type": "markdown",
   "metadata": {},
   "source": [
    "## 1.2 Application two: keep all objects in the list but do some transformation"
   ]
  },
  {
   "cell_type": "code",
   "execution_count": null,
   "metadata": {},
   "outputs": [],
   "source": [
    "all_courses\n",
    "\n",
    "## strip the numbers from the course names\n",
    "courses_prefix = [x[:3] for x in all_courses]\n",
    "courses_prefix # could then find unique elements\n"
   ]
  },
  {
   "cell_type": "code",
   "execution_count": null,
   "metadata": {},
   "outputs": [],
   "source": [
    "# Join all together example\n",
    "\" #:(# \".join(courses_prefix)"
   ]
  },
  {
   "cell_type": "markdown",
   "metadata": {},
   "source": [
    "#### Your turn: Using original list, add \"dartmouth_\" prefix to the course name"
   ]
  },
  {
   "cell_type": "code",
   "execution_count": null,
   "metadata": {},
   "outputs": [],
   "source": []
  },
  {
   "cell_type": "markdown",
   "metadata": {},
   "source": [
    "## 1.3 Subsetting columns"
   ]
  },
  {
   "cell_type": "markdown",
   "metadata": {},
   "source": [
    "Use list comprehension to filter to columns with id in the string. Then, create a new dataframe called df1 that contains only column heads with \"id\""
   ]
  },
  {
   "cell_type": "code",
   "execution_count": null,
   "metadata": {},
   "outputs": [],
   "source": [
    "id_cols = [col for col in df.columns if \"ID\" in col]\n",
    "id_cols\n",
    "\n",
    "## Then, filter the data\n",
    "df[id_cols]"
   ]
  },
  {
   "cell_type": "code",
   "execution_count": null,
   "metadata": {},
   "outputs": [],
   "source": []
  },
  {
   "cell_type": "markdown",
   "metadata": {},
   "source": [
    "## 1.4 Comprehension for numbers\n",
    "\n",
    "Here we compare two ways of creating a list of even numbers."
   ]
  },
  {
   "cell_type": "code",
   "execution_count": null,
   "metadata": {},
   "outputs": [],
   "source": [
    "num_list = np.arange(10000)\n",
    "num_list"
   ]
  },
  {
   "cell_type": "code",
   "execution_count": null,
   "metadata": {
    "scrolled": true
   },
   "outputs": [],
   "source": [
    "%%time\n",
    "even_nums = [i for i in num_list if (i % 2) == 0]"
   ]
  },
  {
   "cell_type": "code",
   "execution_count": null,
   "metadata": {},
   "outputs": [],
   "source": [
    "%%time\n",
    "num_list[~(num_list % 2).astype(bool)]"
   ]
  },
  {
   "cell_type": "code",
   "execution_count": null,
   "metadata": {},
   "outputs": [],
   "source": [
    "num_list[ ~(num_list % 2).astype(bool) ]"
   ]
  },
  {
   "cell_type": "code",
   "execution_count": null,
   "metadata": {},
   "outputs": [],
   "source": []
  },
  {
   "cell_type": "markdown",
   "metadata": {},
   "source": [
    "#### Your turn: Extract all numbers in num_list that end in 7"
   ]
  },
  {
   "cell_type": "code",
   "execution_count": null,
   "metadata": {},
   "outputs": [],
   "source": []
  },
  {
   "cell_type": "markdown",
   "metadata": {},
   "source": [
    "#### Your turn: Divide each number  in num_list by 2"
   ]
  },
  {
   "cell_type": "code",
   "execution_count": null,
   "metadata": {},
   "outputs": [],
   "source": []
  },
  {
   "cell_type": "markdown",
   "metadata": {},
   "source": [
    "# 2. Questions: lambda functions\n",
    "\n",
    "Two questions:\n",
    "\n",
    "- General syntax (see here for a reference: https://www.w3schools.com/python/python_lambda.asp \n",
    "- How they work in the context of aggregations\n",
    "\n",
    "How is a lambda function different from a \"normal\" user-defined function (that has the syntax def func_name(arg): etc?\n",
    "\n",
    "- Operates similarly to normal user-defined functions in that it can take any # of arguments\n",
    "- Operates differently in that it's an \"anonymous\" function or a function that we don't explicitly name/save in memory"
   ]
  },
  {
   "cell_type": "markdown",
   "metadata": {},
   "source": [
    "## 2.1 General syntax for lambda functions"
   ]
  },
  {
   "cell_type": "code",
   "execution_count": null,
   "metadata": {},
   "outputs": [],
   "source": [
    "### two pools of courses\n",
    "socsci = [\"QSS20\", \"QSS17\", \"GOV10\"]\n",
    "natsci = [\"BIO2\", \"PHYS3\"]\n",
    "\n",
    "\n",
    "## generalize some of the steps\n",
    "## above into a two-arg function\n",
    "## that takes the course prefix\n",
    "## and a list of all courses\n",
    "def filter_courses(prefix, all_courses):\n",
    "    rel_courses = [c for c in all_courses if prefix in c]\n",
    "    return(rel_courses)\n",
    "\n",
    "### a few applications \n",
    "filter_courses(prefix = \"QSS\", all_courses = socsci)\n",
    "filter_courses(prefix = \"QSS\", all_courses = natsci)\n",
    "filter_courses(prefix = \"BIO\", all_courses = natsci)"
   ]
  },
  {
   "cell_type": "code",
   "execution_count": null,
   "metadata": {},
   "outputs": [],
   "source": [
    "## what's the lambda function version of this\n",
    "filter_courses_v2 = lambda prefix, all_courses: [c for c in all_courses if prefix in c]\n",
    "filter_courses_v2(prefix = \"BIO\", all_courses = natsci)\n"
   ]
  },
  {
   "cell_type": "markdown",
   "metadata": {},
   "source": [
    "## 2.2 using alongside agg"
   ]
  },
  {
   "cell_type": "code",
   "execution_count": null,
   "metadata": {},
   "outputs": [],
   "source": [
    "## use lambda to find modal block in a ward- multiple ways\n",
    "\n",
    "### way 1: subsetting agg syntex\n",
    "df.groupby(\"WARD\")[\"BLOCK\"].agg(lambda x: x.mode())\n",
    "\n",
    "### way 2: dictionary agg syntax\n",
    "df.groupby(\"WARD\").agg({\"BLOCK\": lambda x: x.mode()})\n"
   ]
  },
  {
   "cell_type": "markdown",
   "metadata": {},
   "source": [
    "#### Your turn: Group by WARD and get the mean and standard deviation (std) of X and Y"
   ]
  },
  {
   "cell_type": "code",
   "execution_count": null,
   "metadata": {},
   "outputs": [],
   "source": []
  },
  {
   "cell_type": "code",
   "execution_count": null,
   "metadata": {},
   "outputs": [],
   "source": []
  },
  {
   "cell_type": "markdown",
   "metadata": {},
   "source": [
    "### Random sampling and distance measures"
   ]
  },
  {
   "cell_type": "code",
   "execution_count": null,
   "metadata": {},
   "outputs": [],
   "source": [
    "random_uniform = np.random.rand(5)  # 5 random numbers between 0 and 1\n",
    "print(\"Random numbers from uniform distribution:\", random_uniform)\n",
    "\n",
    "random_normal = np.random.randn(5)  # 5 random numbers from a standard normal distribution\n",
    "print(\"Random numbers from normal distribution:\", random_normal)"
   ]
  },
  {
   "cell_type": "code",
   "execution_count": null,
   "metadata": {},
   "outputs": [],
   "source": [
    "N = 200\n",
    "\n",
    "sns.kdeplot(np.random.rand(N))"
   ]
  },
  {
   "cell_type": "code",
   "execution_count": null,
   "metadata": {},
   "outputs": [],
   "source": [
    "sns.kdeplot(np.random.randn(N))"
   ]
  },
  {
   "cell_type": "code",
   "execution_count": null,
   "metadata": {},
   "outputs": [],
   "source": []
  },
  {
   "cell_type": "markdown",
   "metadata": {},
   "source": [
    "Your turn: This last portion will consist of computing distances between points.\n",
    "1. Create a dataframe with four columns (name them X1, Y1, X2, Y2), using np.random.randn(). Each should have a different mean.\n",
    "2. Create a new column called Manhattan and Euclidean, and compute the distance using apply.\n",
    "3. Plot the distribution of the two. What do you notice?"
   ]
  },
  {
   "cell_type": "code",
   "execution_count": null,
   "metadata": {},
   "outputs": [],
   "source": []
  },
  {
   "cell_type": "code",
   "execution_count": null,
   "metadata": {},
   "outputs": [],
   "source": []
  },
  {
   "cell_type": "code",
   "execution_count": null,
   "metadata": {},
   "outputs": [],
   "source": []
  }
 ],
 "metadata": {
  "kernelspec": {
   "display_name": "Python 3 (ipykernel)",
   "language": "python",
   "name": "python3"
  },
  "language_info": {
   "codemirror_mode": {
    "name": "ipython",
    "version": 3
   },
   "file_extension": ".py",
   "mimetype": "text/x-python",
   "name": "python",
   "nbconvert_exporter": "python",
   "pygments_lexer": "ipython3",
   "version": "3.9.12"
  }
 },
 "nbformat": 4,
 "nbformat_minor": 4
}
